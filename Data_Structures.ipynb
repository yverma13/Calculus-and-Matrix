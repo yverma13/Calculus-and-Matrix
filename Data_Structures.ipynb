{
 "cells": [
  {
   "cell_type": "markdown",
   "id": "d1debec1",
   "metadata": {},
   "source": [
    "# **Data Structures**"
   ]
  },
  {
   "cell_type": "markdown",
   "id": "67ab456b",
   "metadata": {},
   "source": [
    "Vector: An n-vector can be used to represent n quantities or values in an application. In some cases the values are similar in nature (for example, they are given in the same physical units); in others, the quantities represented by the entries of the vector are quite different from each other. Here are some examples are below:\n",
    "\n",
    "A 2-vector can be used to represent a position or location in a 2-dimensional (2-D) space.\n",
    "A 3-vector can represent a color, with its entries giving the Red, Green, and Blue (RGB) intensity values (often between 0 and 1)\n",
    "An n-vector can represent the amounts or quantity across a population of individuals or entities, a stock portfolio, or investment.\n",
    "An n-vector can represent a time series or signal, the daily return of a stock, and a cash flow into and out of an entity.\n",
    "Linear Equations: Linear algebra solves a system of linear equations where variables like x and y are only multiplied by numbers. The following is a simple linear system with two equations and two unknowns.  x+2y=6  and  2x−y=7 \n",
    "\n",
    "Linear System of equations:\n",
    "\n",
    "Linear Systems With Two Variables: A linear system of two equations with two variables is any system that can be written in the form.  ax+by=p  and  cx+dy=q  where any of the constants can be zero with the exception that each equation must have at least one variable in it. Also, the system is called linear if the variables are only to the first power, are only in the numerator and there are no products of variables in any of the equations.\n",
    "\n",
    "Linear Systems With Three Variables eg:  ax−by+cz=0 \n",
    "\n",
    "Vector space: A vector space consists of a set V (elements of V are called vectors), a field F (elements of F are called scalars), and two operations\n",
    "\n",
    "An operation called vector addition takes two vectors v, w ∈ V, and produces a third vector, written v + w ∈ V.\n",
    "\n",
    "An operation called scalar multiplication takes a scalar c ∈ F and a vector v ∈ V and produces a new vector, written cv ∈ V.\n",
    "\n",
    "Matrix Notation: Each element of matrix A is written as A(i, j) or aij, where i is the row and j is the column.  [a11a21a12a22] \n",
    "\n",
    "Augmented matrices: An augmented matrix for a system of equations is a matrix of numbers in which each row represents the constants from one equation (both the coefficients and the constant on the other side of the equal sign) and each column represents all the coefficients for a single variable."
   ]
  },
  {
   "cell_type": "code",
   "execution_count": null,
   "id": "6e186d06",
   "metadata": {},
   "outputs": [],
   "source": [
    "hello"
   ]
  }
 ],
 "metadata": {
  "language_info": {
   "name": "python"
  }
 },
 "nbformat": 4,
 "nbformat_minor": 5
}
