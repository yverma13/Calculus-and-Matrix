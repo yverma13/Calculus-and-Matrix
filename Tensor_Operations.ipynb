{
 "cells": [
  {
   "cell_type": "markdown",
   "id": "4b0c9fc0",
   "metadata": {},
   "source": [
    "# **Tensor Operations**"
   ]
  },
  {
   "cell_type": "markdown",
   "id": "cb248731",
   "metadata": {},
   "source": [
    "**Tensors**: Tensor, in relation to machine learning, is a generalization of scalars, vectors, and matrices as seen in the table below.\n",
    "\n",
    "![img](https://cdn.iisc.talentsprint.com/CDS/Images/tensors.JPG)"
   ]
  },
  {
   "cell_type": "markdown",
   "id": "9593f028",
   "metadata": {},
   "source": [
    "* From the above explanation, you might have understood that Tensor operations are nothing but matrix operations.\n",
    "\n",
    "**Tensorflow**:\n",
    "We are introducing Tensorflow here, a widely used library for Machine Learning, specifically deep learning. Tensorflow's name is directly derived from its core framework: Tensor and all the computations carried out involve Tensor and its operations.TensorFlow was developed by the Google Brain team and first released under the Apache License 2.0 in 2015.\n",
    "* In the following sections, we will see few commonly used operations of Tensor using both NumPy and TensorFlow Library."
   ]
  },
  {
   "cell_type": "code",
   "execution_count": 4,
   "id": "2d81eb95",
   "metadata": {},
   "outputs": [],
   "source": [
    "# Importing required packages\n",
    "\n",
    "import numpy as np\n",
    "import tensorflow as tf"
   ]
  },
  {
   "cell_type": "markdown",
   "id": "bf370187",
   "metadata": {},
   "source": [
    "## Defining and slicing a 2D/1D-Tensor"
   ]
  },
  {
   "cell_type": "markdown",
   "id": "7f8e90ea",
   "metadata": {},
   "source": [
    "### NumPy"
   ]
  },
  {
   "cell_type": "code",
   "execution_count": 6,
   "id": "e3ba916c",
   "metadata": {},
   "outputs": [
    {
     "name": "stdout",
     "output_type": "stream",
     "text": [
      "[[1 2]\n",
      " [2 3]\n",
      " [6 7]]\n",
      "shape =  (3, 2)\n",
      "dimension =  2\n",
      "size = 6\n",
      "lengths =  3\n",
      "data structure type :  <class 'numpy.ndarray'>\n"
     ]
    },
    {
     "data": {
      "text/plain": [
       "dtype('int64')"
      ]
     },
     "execution_count": 6,
     "metadata": {},
     "output_type": "execute_result"
    }
   ],
   "source": [
    "a=np.array([[1,2],[2,3],[6,7]])             # Defining a 2D array in Numpy\n",
    "print(a)                                    # printing the array\n",
    "print('shape = ',a.shape)                   # '.shape' method gives the number of rows and columns in the form of a tuple\n",
    "print('dimension = ',a.ndim)                # It gives dimension of the array\n",
    "print('size =',np.size(a))                  # size always gives total number of elements in any array\n",
    "print('lengths = ',len(a))                  # In 2D it gives the number of rows in an array\n",
    "print('data structure type : ',type(a))     # It gives the type of data structure\n",
    "a.dtype                                     # it gives type of data stored in array"
   ]
  },
  {
   "cell_type": "code",
   "execution_count": null,
   "id": "19c8696a",
   "metadata": {},
   "outputs": [],
   "source": []
  }
 ],
 "metadata": {
  "kernelspec": {
   "display_name": ".venv",
   "language": "python",
   "name": "python3"
  },
  "language_info": {
   "codemirror_mode": {
    "name": "ipython",
    "version": 3
   },
   "file_extension": ".py",
   "mimetype": "text/x-python",
   "name": "python",
   "nbconvert_exporter": "python",
   "pygments_lexer": "ipython3",
   "version": "3.11.9"
  }
 },
 "nbformat": 4,
 "nbformat_minor": 5
}
