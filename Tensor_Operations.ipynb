{
 "cells": [
  {
   "cell_type": "markdown",
   "id": "4b0c9fc0",
   "metadata": {},
   "source": [
    "# **Tensor Operations**"
   ]
  },
  {
   "cell_type": "markdown",
   "id": "cb248731",
   "metadata": {},
   "source": [
    "**Tensors**: Tensor, in relation to machine learning, is a generalization of scalars, vectors, and matrices as seen in the table below.\n",
    "\n",
    "![img](https://cdn.iisc.talentsprint.com/CDS/Images/tensors.JPG)"
   ]
  },
  {
   "cell_type": "markdown",
   "id": "9593f028",
   "metadata": {},
   "source": [
    "* From the above explanation, you might have understood that Tensor operations are nothing but matrix operations.\n",
    "\n",
    "**Tensorflow**:\n",
    "We are introducing Tensorflow here, a widely used library for Machine Learning, specifically deep learning. Tensorflow's name is directly derived from its core framework: Tensor and all the computations carried out involve Tensor and its operations.TensorFlow was developed by the Google Brain team and first released under the Apache License 2.0 in 2015.\n",
    "* In the following sections, we will see few commonly used operations of Tensor using both NumPy and TensorFlow Library."
   ]
  },
  {
   "cell_type": "code",
   "execution_count": 4,
   "id": "2d81eb95",
   "metadata": {},
   "outputs": [],
   "source": [
    "# Importing required packages\n",
    "\n",
    "import numpy as np\n",
    "import tensorflow as tf"
   ]
  },
  {
   "cell_type": "markdown",
   "id": "bf370187",
   "metadata": {},
   "source": [
    "## Defining and slicing a 2D/1D-Tensor"
   ]
  },
  {
   "cell_type": "markdown",
   "id": "7f8e90ea",
   "metadata": {},
   "source": [
    "### NumPy"
   ]
  },
  {
   "cell_type": "code",
   "execution_count": 6,
   "id": "e3ba916c",
   "metadata": {},
   "outputs": [
    {
     "name": "stdout",
     "output_type": "stream",
     "text": [
      "[[1 2]\n",
      " [2 3]\n",
      " [6 7]]\n",
      "shape =  (3, 2)\n",
      "dimension =  2\n",
      "size = 6\n",
      "lengths =  3\n",
      "data structure type :  <class 'numpy.ndarray'>\n"
     ]
    },
    {
     "data": {
      "text/plain": [
       "dtype('int64')"
      ]
     },
     "execution_count": 6,
     "metadata": {},
     "output_type": "execute_result"
    }
   ],
   "source": [
    "a=np.array([[1,2],[2,3],[6,7]])             # Defining a 2D array in Numpy\n",
    "print(a)                                    # printing the array\n",
    "print('shape = ',a.shape)                   # '.shape' method gives the number of rows and columns in the form of a tuple\n",
    "print('dimension = ',a.ndim)                # It gives dimension of the array\n",
    "print('size =',np.size(a))                  # size always gives total number of elements in any array\n",
    "print('lengths = ',len(a))                  # In 2D it gives the number of rows in an array\n",
    "print('data structure type : ',type(a))     # It gives the type of data structure\n",
    "a.dtype                                     # it gives type of data stored in array"
   ]
  },
  {
   "cell_type": "markdown",
   "id": "126a0ab3",
   "metadata": {},
   "source": [
    "#### Slicing: We are going to define a 2D Matrix as given in the image below and apply the slicing operations.\n",
    "\n",
    "![2Dimg](https://cdn.iisc.talentsprint.com/CDS/Images/2D_array_slicing.JPG)"
   ]
  },
  {
   "cell_type": "code",
   "execution_count": 7,
   "id": "3cb2755b",
   "metadata": {},
   "outputs": [
    {
     "data": {
      "text/plain": [
       "array([[ 1,  2,  3,  4],\n",
       "       [ 4,  5,  6,  7],\n",
       "       [ 7,  8,  9, 10]])"
      ]
     },
     "execution_count": 7,
     "metadata": {},
     "output_type": "execute_result"
    }
   ],
   "source": [
    "## Creating a 2D array\n",
    "a2d = np.array([[1, 2, 3, 4], [4, 5, 6, 7], [7, 8, 9, 10]])\n",
    "a2d"
   ]
  },
  {
   "cell_type": "code",
   "execution_count": 8,
   "id": "19c8696a",
   "metadata": {},
   "outputs": [
    {
     "data": {
      "text/plain": [
       "array([ 7,  8,  9, 10])"
      ]
     },
     "execution_count": 8,
     "metadata": {},
     "output_type": "execute_result"
    }
   ],
   "source": [
    "# slicing the 2nd index row\n",
    "a2d[2]"
   ]
  },
  {
   "cell_type": "code",
   "execution_count": 9,
   "id": "f884c3af",
   "metadata": {},
   "outputs": [
    {
     "data": {
      "text/plain": [
       "array([1, 2, 3, 4])"
      ]
     },
     "execution_count": 9,
     "metadata": {},
     "output_type": "execute_result"
    }
   ],
   "source": [
    "# zeroth row\n",
    "a2d[0]"
   ]
  },
  {
   "cell_type": "code",
   "execution_count": 10,
   "id": "63bb9168",
   "metadata": {},
   "outputs": [
    {
     "data": {
      "text/plain": [
       "np.int64(7)"
      ]
     },
     "execution_count": 10,
     "metadata": {},
     "output_type": "execute_result"
    }
   ],
   "source": [
    "# The first value before coma is for row index and the second value after coma is for column index.\n",
    "a2d[1,3]"
   ]
  },
  {
   "cell_type": "code",
   "execution_count": 11,
   "id": "d0616513",
   "metadata": {},
   "outputs": [
    {
     "data": {
      "text/plain": [
       "np.int64(7)"
      ]
     },
     "execution_count": 11,
     "metadata": {},
     "output_type": "execute_result"
    }
   ],
   "source": [
    "# This can also used.\n",
    "a2d[1][3]"
   ]
  },
  {
   "cell_type": "code",
   "execution_count": 12,
   "id": "6385c21f",
   "metadata": {},
   "outputs": [
    {
     "data": {
      "text/plain": [
       "np.int64(5)"
      ]
     },
     "execution_count": 12,
     "metadata": {},
     "output_type": "execute_result"
    }
   ],
   "source": [
    "# Using negative index\n",
    "a2d[-2,-3]"
   ]
  },
  {
   "cell_type": "code",
   "execution_count": 13,
   "id": "7b8e7998",
   "metadata": {},
   "outputs": [
    {
     "data": {
      "text/plain": [
       "array([[1, 2],\n",
       "       [4, 5]])"
      ]
     },
     "execution_count": 13,
     "metadata": {},
     "output_type": "execute_result"
    }
   ],
   "source": [
    "# from the very beginning to -2 indexed row (i.e -3 and -2 indexed row) and -3,-4 indexed columns are sliced\n",
    "a2d[:-1,:-2]"
   ]
  },
  {
   "cell_type": "code",
   "execution_count": 14,
   "id": "91be646b",
   "metadata": {},
   "outputs": [
    {
     "data": {
      "text/plain": [
       "array([[1, 2, 3, 4],\n",
       "       [4, 5, 6, 7]])"
      ]
     },
     "execution_count": 14,
     "metadata": {},
     "output_type": "execute_result"
    }
   ],
   "source": [
    "# from the very beginning to 1 indexed row, i.e 0 and 1 index row sliced. 2 is not included.\n",
    "a2d[:2]"
   ]
  },
  {
   "cell_type": "code",
   "execution_count": 15,
   "id": "ab8724d8",
   "metadata": {},
   "outputs": [
    {
     "data": {
      "text/plain": [
       "array([[3, 4],\n",
       "       [6, 7]])"
      ]
     },
     "execution_count": 15,
     "metadata": {},
     "output_type": "execute_result"
    }
   ],
   "source": [
    "# ( 0 ,1 ) indexed rows and 2 to last indexed columns are sliced.\n",
    "a2d[:2, 2:]"
   ]
  },
  {
   "cell_type": "code",
   "execution_count": 16,
   "id": "fc6edda4",
   "metadata": {},
   "outputs": [
    {
     "data": {
      "text/plain": [
       "array([4, 5])"
      ]
     },
     "execution_count": 16,
     "metadata": {},
     "output_type": "execute_result"
    }
   ],
   "source": [
    "# 1 indexed row and (0,1) indexed columns are sliced .\n",
    "a2d[1, :2]"
   ]
  },
  {
   "cell_type": "code",
   "execution_count": 17,
   "id": "17fe7663",
   "metadata": {},
   "outputs": [
    {
     "data": {
      "text/plain": [
       "array([3, 6])"
      ]
     },
     "execution_count": 17,
     "metadata": {},
     "output_type": "execute_result"
    }
   ],
   "source": [
    "# Explain yourself?\n",
    "a2d[:2, 2]"
   ]
  },
  {
   "cell_type": "code",
   "execution_count": 18,
   "id": "9b642a57",
   "metadata": {},
   "outputs": [
    {
     "data": {
      "text/plain": [
       "array([[1],\n",
       "       [4],\n",
       "       [7]])"
      ]
     },
     "execution_count": 18,
     "metadata": {},
     "output_type": "execute_result"
    }
   ],
   "source": [
    "# All rows and 0 column ( from the very beginning, but 1 not included i.e. zeroth column ) sliced.\n",
    "a2d[:, :1]"
   ]
  },
  {
   "cell_type": "code",
   "execution_count": 19,
   "id": "982ca556",
   "metadata": {},
   "outputs": [
    {
     "name": "stdout",
     "output_type": "stream",
     "text": [
      "Initial Matrix =  [[ 1  2  3  4]\n",
      " [ 4  5  6  7]\n",
      " [ 7  8  9 10]]\n",
      "Matrix after above assigned operations =  [[ 1  0  0  0]\n",
      " [ 4  0  0  0]\n",
      " [ 7  8  9 10]]\n"
     ]
    }
   ],
   "source": [
    "print('Initial Matrix = ',a2d)\n",
    "# This is an assignment operation, a2d  itself gets changed.\n",
    "a2d[:2, 1:] = 0\n",
    "print('Matrix after above assigned operations = ',a2d)"
   ]
  },
  {
   "cell_type": "markdown",
   "id": "19f861b4",
   "metadata": {},
   "source": [
    "### TensorFlow\n",
    "**tf.Variable**: There are multiple ways of defining/forming a Tensor in Tensorflow, tf.Variable is one of those. A tf.Variable represents a tensor whose value can be changed by running operations on it. Specific operations allow you to read and modify the values of this tensor. Higher-level libraries like tf.keras use tf.Variable to store model parameters that keep changing/updating with subsequent learning steps.\n",
    "\n",
    "**tf.Constant**: This is another way of creating a Tensor but the tensor made through this cannot be updated but can be called multiple times with only 1 copy in the memory."
   ]
  },
  {
   "cell_type": "code",
   "execution_count": null,
   "id": "d3211a9d",
   "metadata": {},
   "outputs": [
    {
     "name": "stdout",
     "output_type": "stream",
     "text": [
      "<tf.Variable 'Variable:0' shape=(3, 2) dtype=int32, numpy=\n",
      "array([[1, 2],\n",
      "       [2, 3],\n",
      "       [6, 7]], dtype=int32)>\n",
      "Shape of the input tensor is tf.Tensor([3 2], shape=(2,), dtype=int32)\n",
      "Rank of the input tensor is tf.Tensor(2, shape=(), dtype=int32)\n",
      "Size of the input tensor is tf.Tensor(6, shape=(), dtype=int32)\n"
     ]
    }
   ],
   "source": [
    "a_tf = tf.Variable([[1,2],[2,3],[6,7]])\n",
    "print(a_tf)\n",
    "print(\"Shape of the input tensor is\", tf.shape(a_tf)) # Returns a tensor containing the shape of the input tensor\n",
    "print(\"Rank of the input tensor is\", tf.rank(a_tf)) # Returns the rank of a tensor\n",
    "# print(a_tf.ndim) -->  This operation is not valid for tf.variable object.\n",
    "print(\"Size of the input tensor is\", tf.size(a_tf)) # Returns the size of a tensor"
   ]
  },
  {
   "cell_type": "code",
   "execution_count": null,
   "id": "9ccc3a4f",
   "metadata": {},
   "outputs": [],
   "source": []
  }
 ],
 "metadata": {
  "kernelspec": {
   "display_name": ".venv",
   "language": "python",
   "name": "python3"
  },
  "language_info": {
   "codemirror_mode": {
    "name": "ipython",
    "version": 3
   },
   "file_extension": ".py",
   "mimetype": "text/x-python",
   "name": "python",
   "nbconvert_exporter": "python",
   "pygments_lexer": "ipython3",
   "version": "3.11.9"
  }
 },
 "nbformat": 4,
 "nbformat_minor": 5
}
